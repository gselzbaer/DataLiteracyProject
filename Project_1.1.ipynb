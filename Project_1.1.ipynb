{
 "cells": [
  {
   "cell_type": "code",
   "execution_count": 1,
   "id": "e7a4d90b",
   "metadata": {},
   "outputs": [],
   "source": [
    "import numpy as np \n",
    "import pandas as pd \n",
    "import matplotlib.pyplot as plt\n",
    "\n",
    "data = pd.read_csv('survey_results_public2021.csv') #changed the source\n",
    "data_lastyear = pd.read_csv('survey_results_public2020.csv')\n",
    "pd.set_option('display.max_columns', 100) # displays enough columns\n",
    "# for working with salaries the problem is that total money and purchasing power are different? f.e compare India and US\n",
    "# focus on US/EU?\n",
    "#gender/race pay gap present in developer industry? if so, did it get better over time?\n",
    "#difference in behaviour if NEWStuck depending on gender, age, education?"
   ]
  },
  {
   "cell_type": "code",
   "execution_count": 2,
   "id": "158d9052",
   "metadata": {},
   "outputs": [
    {
     "data": {
      "text/plain": [
       "Index(['ResponseId', 'MainBranch', 'Employment', 'Country', 'US_State',\n",
       "       'UK_Country', 'EdLevel', 'Age1stCode', 'LearnCode', 'YearsCode',\n",
       "       'YearsCodePro', 'DevType', 'OrgSize', 'Currency', 'CompTotal',\n",
       "       'CompFreq', 'LanguageHaveWorkedWith', 'LanguageWantToWorkWith',\n",
       "       'DatabaseHaveWorkedWith', 'DatabaseWantToWorkWith',\n",
       "       'PlatformHaveWorkedWith', 'PlatformWantToWorkWith',\n",
       "       'WebframeHaveWorkedWith', 'WebframeWantToWorkWith',\n",
       "       'MiscTechHaveWorkedWith', 'MiscTechWantToWorkWith',\n",
       "       'ToolsTechHaveWorkedWith', 'ToolsTechWantToWorkWith',\n",
       "       'NEWCollabToolsHaveWorkedWith', 'NEWCollabToolsWantToWorkWith', 'OpSys',\n",
       "       'NEWStuck', 'NEWSOSites', 'SOVisitFreq', 'SOAccount', 'SOPartFreq',\n",
       "       'SOComm', 'NEWOtherComms', 'Age', 'Gender', 'Trans', 'Sexuality',\n",
       "       'Ethnicity', 'Accessibility', 'MentalHealth', 'SurveyLength',\n",
       "       'SurveyEase', 'ConvertedCompYearly'],\n",
       "      dtype='object')"
      ]
     },
     "execution_count": 2,
     "metadata": {},
     "output_type": "execute_result"
    }
   ],
   "source": [
    "data.columns"
   ]
  },
  {
   "cell_type": "code",
   "execution_count": 3,
   "id": "7de2ceec",
   "metadata": {},
   "outputs": [
    {
     "data": {
      "text/html": [
       "<div>\n",
       "<style scoped>\n",
       "    .dataframe tbody tr th:only-of-type {\n",
       "        vertical-align: middle;\n",
       "    }\n",
       "\n",
       "    .dataframe tbody tr th {\n",
       "        vertical-align: top;\n",
       "    }\n",
       "\n",
       "    .dataframe thead th {\n",
       "        text-align: right;\n",
       "    }\n",
       "</style>\n",
       "<table border=\"1\" class=\"dataframe\">\n",
       "  <thead>\n",
       "    <tr style=\"text-align: right;\">\n",
       "      <th></th>\n",
       "      <th>MainBranch</th>\n",
       "      <th>Employment</th>\n",
       "      <th>Country</th>\n",
       "      <th>EdLevel</th>\n",
       "      <th>Age1stCode</th>\n",
       "      <th>YearsCode</th>\n",
       "      <th>YearsCodePro</th>\n",
       "      <th>LanguageHaveWorkedWith</th>\n",
       "      <th>LanguageWantToWorkWith</th>\n",
       "      <th>NEWStuck</th>\n",
       "      <th>Age</th>\n",
       "      <th>Gender</th>\n",
       "      <th>Ethnicity</th>\n",
       "      <th>MentalHealth</th>\n",
       "      <th>ConvertedCompYearly</th>\n",
       "    </tr>\n",
       "  </thead>\n",
       "  <tbody>\n",
       "    <tr>\n",
       "      <th>0</th>\n",
       "      <td>I am a developer by profession</td>\n",
       "      <td>Independent contractor, freelancer, or self-em...</td>\n",
       "      <td>Slovakia</td>\n",
       "      <td>Secondary school (e.g. American high school, G...</td>\n",
       "      <td>18 - 24 years</td>\n",
       "      <td>NaN</td>\n",
       "      <td>NaN</td>\n",
       "      <td>C++;HTML/CSS;JavaScript;Objective-C;PHP;Swift</td>\n",
       "      <td>Swift</td>\n",
       "      <td>Call a coworker or friend;Visit Stack Overflow...</td>\n",
       "      <td>25-34 years old</td>\n",
       "      <td>Man</td>\n",
       "      <td>White or of European descent</td>\n",
       "      <td>None of the above</td>\n",
       "      <td>62268.0</td>\n",
       "    </tr>\n",
       "    <tr>\n",
       "      <th>1</th>\n",
       "      <td>I am a student who is learning to code</td>\n",
       "      <td>Student, full-time</td>\n",
       "      <td>Netherlands</td>\n",
       "      <td>Bachelor’s degree (B.A., B.S., B.Eng., etc.)</td>\n",
       "      <td>11 - 17 years</td>\n",
       "      <td>7</td>\n",
       "      <td>NaN</td>\n",
       "      <td>JavaScript;Python</td>\n",
       "      <td>NaN</td>\n",
       "      <td>Visit Stack Overflow;Google it</td>\n",
       "      <td>18-24 years old</td>\n",
       "      <td>Man</td>\n",
       "      <td>White or of European descent</td>\n",
       "      <td>None of the above</td>\n",
       "      <td>NaN</td>\n",
       "    </tr>\n",
       "    <tr>\n",
       "      <th>2</th>\n",
       "      <td>I am not primarily a developer, but I write co...</td>\n",
       "      <td>Student, full-time</td>\n",
       "      <td>Russian Federation</td>\n",
       "      <td>Bachelor’s degree (B.A., B.S., B.Eng., etc.)</td>\n",
       "      <td>11 - 17 years</td>\n",
       "      <td>NaN</td>\n",
       "      <td>NaN</td>\n",
       "      <td>Assembly;C;Python;R;Rust</td>\n",
       "      <td>Julia;Python;Rust</td>\n",
       "      <td>Visit Stack Overflow;Google it;Watch help / tu...</td>\n",
       "      <td>18-24 years old</td>\n",
       "      <td>Man</td>\n",
       "      <td>Prefer not to say</td>\n",
       "      <td>None of the above</td>\n",
       "      <td>NaN</td>\n",
       "    </tr>\n",
       "    <tr>\n",
       "      <th>3</th>\n",
       "      <td>I am a developer by profession</td>\n",
       "      <td>Employed full-time</td>\n",
       "      <td>Austria</td>\n",
       "      <td>Master’s degree (M.A., M.S., M.Eng., MBA, etc.)</td>\n",
       "      <td>11 - 17 years</td>\n",
       "      <td>NaN</td>\n",
       "      <td>NaN</td>\n",
       "      <td>JavaScript;TypeScript</td>\n",
       "      <td>JavaScript;TypeScript</td>\n",
       "      <td>Call a coworker or friend;Visit Stack Overflow...</td>\n",
       "      <td>35-44 years old</td>\n",
       "      <td>Man</td>\n",
       "      <td>White or of European descent</td>\n",
       "      <td>NaN</td>\n",
       "      <td>NaN</td>\n",
       "    </tr>\n",
       "    <tr>\n",
       "      <th>4</th>\n",
       "      <td>I am a developer by profession</td>\n",
       "      <td>Independent contractor, freelancer, or self-em...</td>\n",
       "      <td>United Kingdom of Great Britain and Northern I...</td>\n",
       "      <td>Master’s degree (M.A., M.S., M.Eng., MBA, etc.)</td>\n",
       "      <td>5 - 10 years</td>\n",
       "      <td>17</td>\n",
       "      <td>10</td>\n",
       "      <td>Bash/Shell;HTML/CSS;Python;SQL</td>\n",
       "      <td>Bash/Shell;HTML/CSS;Python;SQL</td>\n",
       "      <td>Visit Stack Overflow;Go for a walk or other ph...</td>\n",
       "      <td>25-34 years old</td>\n",
       "      <td>Man</td>\n",
       "      <td>White or of European descent</td>\n",
       "      <td>NaN</td>\n",
       "      <td>NaN</td>\n",
       "    </tr>\n",
       "    <tr>\n",
       "      <th>...</th>\n",
       "      <td>...</td>\n",
       "      <td>...</td>\n",
       "      <td>...</td>\n",
       "      <td>...</td>\n",
       "      <td>...</td>\n",
       "      <td>...</td>\n",
       "      <td>...</td>\n",
       "      <td>...</td>\n",
       "      <td>...</td>\n",
       "      <td>...</td>\n",
       "      <td>...</td>\n",
       "      <td>...</td>\n",
       "      <td>...</td>\n",
       "      <td>...</td>\n",
       "      <td>...</td>\n",
       "    </tr>\n",
       "    <tr>\n",
       "      <th>83434</th>\n",
       "      <td>I am a developer by profession</td>\n",
       "      <td>Employed full-time</td>\n",
       "      <td>United States of America</td>\n",
       "      <td>Bachelor’s degree (B.A., B.S., B.Eng., etc.)</td>\n",
       "      <td>11 - 17 years</td>\n",
       "      <td>6</td>\n",
       "      <td>5</td>\n",
       "      <td>Clojure;Kotlin;SQL</td>\n",
       "      <td>Clojure</td>\n",
       "      <td>Call a coworker or friend;Google it</td>\n",
       "      <td>25-34 years old</td>\n",
       "      <td>Man</td>\n",
       "      <td>White or of European descent</td>\n",
       "      <td>I have a concentration and/or memory disorder ...</td>\n",
       "      <td>160500.0</td>\n",
       "    </tr>\n",
       "    <tr>\n",
       "      <th>83435</th>\n",
       "      <td>I am a developer by profession</td>\n",
       "      <td>Independent contractor, freelancer, or self-em...</td>\n",
       "      <td>Benin</td>\n",
       "      <td>Bachelor’s degree (B.A., B.S., B.Eng., etc.)</td>\n",
       "      <td>11 - 17 years</td>\n",
       "      <td>4</td>\n",
       "      <td>2</td>\n",
       "      <td>NaN</td>\n",
       "      <td>NaN</td>\n",
       "      <td>Call a coworker or friend;Visit Stack Overflow...</td>\n",
       "      <td>18-24 years old</td>\n",
       "      <td>Man</td>\n",
       "      <td>Black or of African descent</td>\n",
       "      <td>None of the above</td>\n",
       "      <td>3960.0</td>\n",
       "    </tr>\n",
       "    <tr>\n",
       "      <th>83436</th>\n",
       "      <td>I am a developer by profession</td>\n",
       "      <td>Employed full-time</td>\n",
       "      <td>United States of America</td>\n",
       "      <td>Secondary school (e.g. American high school, G...</td>\n",
       "      <td>11 - 17 years</td>\n",
       "      <td>10</td>\n",
       "      <td>4</td>\n",
       "      <td>Groovy;Java;Python</td>\n",
       "      <td>Java;Python</td>\n",
       "      <td>Call a coworker or friend;Visit Stack Overflow...</td>\n",
       "      <td>25-34 years old</td>\n",
       "      <td>Man</td>\n",
       "      <td>White or of European descent</td>\n",
       "      <td>None of the above</td>\n",
       "      <td>90000.0</td>\n",
       "    </tr>\n",
       "    <tr>\n",
       "      <th>83437</th>\n",
       "      <td>I am a developer by profession</td>\n",
       "      <td>Employed full-time</td>\n",
       "      <td>Canada</td>\n",
       "      <td>Bachelor’s degree (B.A., B.S., B.Eng., etc.)</td>\n",
       "      <td>11 - 17 years</td>\n",
       "      <td>5</td>\n",
       "      <td>3</td>\n",
       "      <td>Bash/Shell;JavaScript;Node.js;Python</td>\n",
       "      <td>Go;Rust</td>\n",
       "      <td>Call a coworker or friend;Visit Stack Overflow...</td>\n",
       "      <td>25-34 years old</td>\n",
       "      <td>Man</td>\n",
       "      <td>White or of European descent</td>\n",
       "      <td>I have a mood or emotional disorder (e.g. depr...</td>\n",
       "      <td>816816.0</td>\n",
       "    </tr>\n",
       "    <tr>\n",
       "      <th>83438</th>\n",
       "      <td>I am a developer by profession</td>\n",
       "      <td>Employed full-time</td>\n",
       "      <td>Brazil</td>\n",
       "      <td>Professional degree (JD, MD, etc.)</td>\n",
       "      <td>11 - 17 years</td>\n",
       "      <td>14</td>\n",
       "      <td>4</td>\n",
       "      <td>Delphi;Elixir;HTML/CSS;Java;JavaScript</td>\n",
       "      <td>Elixir;HTML/CSS;Java;JavaScript;Node.js;PHP;SQ...</td>\n",
       "      <td>Call a coworker or friend;Visit Stack Overflow...</td>\n",
       "      <td>18-24 years old</td>\n",
       "      <td>Man</td>\n",
       "      <td>Hispanic or Latino/a/x</td>\n",
       "      <td>None of the above</td>\n",
       "      <td>21168.0</td>\n",
       "    </tr>\n",
       "  </tbody>\n",
       "</table>\n",
       "<p>83439 rows × 15 columns</p>\n",
       "</div>"
      ],
      "text/plain": [
       "                                              MainBranch  \\\n",
       "0                         I am a developer by profession   \n",
       "1                 I am a student who is learning to code   \n",
       "2      I am not primarily a developer, but I write co...   \n",
       "3                         I am a developer by profession   \n",
       "4                         I am a developer by profession   \n",
       "...                                                  ...   \n",
       "83434                     I am a developer by profession   \n",
       "83435                     I am a developer by profession   \n",
       "83436                     I am a developer by profession   \n",
       "83437                     I am a developer by profession   \n",
       "83438                     I am a developer by profession   \n",
       "\n",
       "                                              Employment  \\\n",
       "0      Independent contractor, freelancer, or self-em...   \n",
       "1                                     Student, full-time   \n",
       "2                                     Student, full-time   \n",
       "3                                     Employed full-time   \n",
       "4      Independent contractor, freelancer, or self-em...   \n",
       "...                                                  ...   \n",
       "83434                                 Employed full-time   \n",
       "83435  Independent contractor, freelancer, or self-em...   \n",
       "83436                                 Employed full-time   \n",
       "83437                                 Employed full-time   \n",
       "83438                                 Employed full-time   \n",
       "\n",
       "                                                 Country  \\\n",
       "0                                               Slovakia   \n",
       "1                                            Netherlands   \n",
       "2                                     Russian Federation   \n",
       "3                                                Austria   \n",
       "4      United Kingdom of Great Britain and Northern I...   \n",
       "...                                                  ...   \n",
       "83434                           United States of America   \n",
       "83435                                              Benin   \n",
       "83436                           United States of America   \n",
       "83437                                             Canada   \n",
       "83438                                             Brazil   \n",
       "\n",
       "                                                 EdLevel     Age1stCode  \\\n",
       "0      Secondary school (e.g. American high school, G...  18 - 24 years   \n",
       "1           Bachelor’s degree (B.A., B.S., B.Eng., etc.)  11 - 17 years   \n",
       "2           Bachelor’s degree (B.A., B.S., B.Eng., etc.)  11 - 17 years   \n",
       "3        Master’s degree (M.A., M.S., M.Eng., MBA, etc.)  11 - 17 years   \n",
       "4        Master’s degree (M.A., M.S., M.Eng., MBA, etc.)   5 - 10 years   \n",
       "...                                                  ...            ...   \n",
       "83434       Bachelor’s degree (B.A., B.S., B.Eng., etc.)  11 - 17 years   \n",
       "83435       Bachelor’s degree (B.A., B.S., B.Eng., etc.)  11 - 17 years   \n",
       "83436  Secondary school (e.g. American high school, G...  11 - 17 years   \n",
       "83437       Bachelor’s degree (B.A., B.S., B.Eng., etc.)  11 - 17 years   \n",
       "83438                 Professional degree (JD, MD, etc.)  11 - 17 years   \n",
       "\n",
       "      YearsCode YearsCodePro                         LanguageHaveWorkedWith  \\\n",
       "0           NaN          NaN  C++;HTML/CSS;JavaScript;Objective-C;PHP;Swift   \n",
       "1             7          NaN                              JavaScript;Python   \n",
       "2           NaN          NaN                       Assembly;C;Python;R;Rust   \n",
       "3           NaN          NaN                          JavaScript;TypeScript   \n",
       "4            17           10                 Bash/Shell;HTML/CSS;Python;SQL   \n",
       "...         ...          ...                                            ...   \n",
       "83434         6            5                             Clojure;Kotlin;SQL   \n",
       "83435         4            2                                            NaN   \n",
       "83436        10            4                             Groovy;Java;Python   \n",
       "83437         5            3           Bash/Shell;JavaScript;Node.js;Python   \n",
       "83438        14            4         Delphi;Elixir;HTML/CSS;Java;JavaScript   \n",
       "\n",
       "                                  LanguageWantToWorkWith  \\\n",
       "0                                                  Swift   \n",
       "1                                                    NaN   \n",
       "2                                      Julia;Python;Rust   \n",
       "3                                  JavaScript;TypeScript   \n",
       "4                         Bash/Shell;HTML/CSS;Python;SQL   \n",
       "...                                                  ...   \n",
       "83434                                            Clojure   \n",
       "83435                                                NaN   \n",
       "83436                                        Java;Python   \n",
       "83437                                            Go;Rust   \n",
       "83438  Elixir;HTML/CSS;Java;JavaScript;Node.js;PHP;SQ...   \n",
       "\n",
       "                                                NEWStuck              Age  \\\n",
       "0      Call a coworker or friend;Visit Stack Overflow...  25-34 years old   \n",
       "1                         Visit Stack Overflow;Google it  18-24 years old   \n",
       "2      Visit Stack Overflow;Google it;Watch help / tu...  18-24 years old   \n",
       "3      Call a coworker or friend;Visit Stack Overflow...  35-44 years old   \n",
       "4      Visit Stack Overflow;Go for a walk or other ph...  25-34 years old   \n",
       "...                                                  ...              ...   \n",
       "83434                Call a coworker or friend;Google it  25-34 years old   \n",
       "83435  Call a coworker or friend;Visit Stack Overflow...  18-24 years old   \n",
       "83436  Call a coworker or friend;Visit Stack Overflow...  25-34 years old   \n",
       "83437  Call a coworker or friend;Visit Stack Overflow...  25-34 years old   \n",
       "83438  Call a coworker or friend;Visit Stack Overflow...  18-24 years old   \n",
       "\n",
       "      Gender                     Ethnicity  \\\n",
       "0        Man  White or of European descent   \n",
       "1        Man  White or of European descent   \n",
       "2        Man             Prefer not to say   \n",
       "3        Man  White or of European descent   \n",
       "4        Man  White or of European descent   \n",
       "...      ...                           ...   \n",
       "83434    Man  White or of European descent   \n",
       "83435    Man   Black or of African descent   \n",
       "83436    Man  White or of European descent   \n",
       "83437    Man  White or of European descent   \n",
       "83438    Man        Hispanic or Latino/a/x   \n",
       "\n",
       "                                            MentalHealth  ConvertedCompYearly  \n",
       "0                                      None of the above              62268.0  \n",
       "1                                      None of the above                  NaN  \n",
       "2                                      None of the above                  NaN  \n",
       "3                                                    NaN                  NaN  \n",
       "4                                                    NaN                  NaN  \n",
       "...                                                  ...                  ...  \n",
       "83434  I have a concentration and/or memory disorder ...             160500.0  \n",
       "83435                                  None of the above               3960.0  \n",
       "83436                                  None of the above              90000.0  \n",
       "83437  I have a mood or emotional disorder (e.g. depr...             816816.0  \n",
       "83438                                  None of the above              21168.0  \n",
       "\n",
       "[83439 rows x 15 columns]"
      ]
     },
     "execution_count": 3,
     "metadata": {},
     "output_type": "execute_result"
    }
   ],
   "source": [
    "data.filter(['MainBranch', 'Employment','Country', 'EdLevel', 'Age1stCode', 'YearsCode', 'YearsCodePro', 'LanguageHaveWorkedWith', 'LanguageWantToWorkWith', 'NEWStuck', 'Age', 'Gender', 'Ethnicity', 'MentalHealth', 'ConvertedCompYearly' ])"
   ]
  },
  {
   "cell_type": "code",
   "execution_count": 4,
   "id": "5cff1561",
   "metadata": {},
   "outputs": [
    {
     "data": {
      "text/plain": [
       "0.24522105969630503"
      ]
     },
     "execution_count": 4,
     "metadata": {},
     "output_type": "execute_result"
    }
   ],
   "source": [
    "1 - (data['MentalHealth'].isna().sum() + (data['MentalHealth'] == 'None of the above').sum()) /data.shape[0] # 1 out of 4 is not without health problems? that sounds like a lot\n",
    "# sadly this question was not asked in any surveys pre Covid as far as I could see"
   ]
  },
  {
   "cell_type": "code",
   "execution_count": 5,
   "id": "c9dd5e5d",
   "metadata": {},
   "outputs": [],
   "source": [
    "df = data.groupby(['YearsCode']).median()['ConvertedCompYearly']"
   ]
  },
  {
   "cell_type": "code",
   "execution_count": 6,
   "id": "419d0c85",
   "metadata": {},
   "outputs": [
    {
     "data": {
      "text/plain": [
       "<AxesSubplot:xlabel='YearsCode'>"
      ]
     },
     "execution_count": 6,
     "metadata": {},
     "output_type": "execute_result"
    },
    {
     "data": {
      "image/png": "[encoded data removed]",
      "text/plain": [
       "<Figure size 432x288 with 1 Axes>"
      ]
     },
     "metadata": {
      "needs_background": "light"
     },
     "output_type": "display_data"
    }
   ],
   "source": [
    "df.plot.bar() #how to sort the columns, why doenst it work the right way automatically?"
   ]
  },
  {
   "cell_type": "code",
   "execution_count": 8,
   "id": "ecd59867",
   "metadata": {},
   "outputs": [
    {
     "data": {
      "text/plain": [
       "56211.0"
      ]
     },
     "execution_count": 8,
     "metadata": {},
     "output_type": "execute_result"
    }
   ],
   "source": [
    "#gender/race pay gap present in developer industry? if so, did it get better over time (todo?)?\n",
    "#do we have enough data?\n",
    "data.shape[0]-data['ConvertedCompYearly'].isna().sum()\n",
    "#46844 is enough\n",
    "data['ConvertedCompYearly'].median()"
   ]
  },
  {
   "cell_type": "code",
   "execution_count": 9,
   "id": "3946af8c",
   "metadata": {},
   "outputs": [
    {
     "data": {
      "text/plain": [
       "Man                                                                                   74817\n",
       "Woman                                                                                  4120\n",
       "Prefer not to say                                                                      1442\n",
       "Non-binary, genderqueer, or gender non-conforming                                       690\n",
       "Or, in your own words:                                                                  413\n",
       "Man;Or, in your own words:                                                              268\n",
       "Man;Non-binary, genderqueer, or gender non-conforming                                   252\n",
       "Woman;Non-binary, genderqueer, or gender non-conforming                                 147\n",
       "Man;Woman                                                                                41\n",
       "Man;Woman;Non-binary, genderqueer, or gender non-conforming                              21\n",
       "Non-binary, genderqueer, or gender non-conforming;Or, in your own words:                 21\n",
       "Man;Woman;Non-binary, genderqueer, or gender non-conforming;Or, in your own words:       17\n",
       "Woman;Or, in your own words:                                                             16\n",
       "Man;Non-binary, genderqueer, or gender non-conforming;Or, in your own words:             11\n",
       "Woman;Non-binary, genderqueer, or gender non-conforming;Or, in your own words:            9\n",
       "Man;Woman;Or, in your own words:                                                          1\n",
       "Name: Gender, dtype: int64"
      ]
     },
     "execution_count": 9,
     "metadata": {},
     "output_type": "execute_result"
    }
   ],
   "source": [
    "data['Gender'].value_counts() #Most answered binary, so the others are statiscally irrelevant."
   ]
  },
  {
   "cell_type": "code",
   "execution_count": 10,
   "id": "74401bae",
   "metadata": {},
   "outputs": [],
   "source": [
    "GenderSalary = data.groupby(['Gender', 'Country'])['ConvertedCompYearly']"
   ]
  },
  {
   "cell_type": "code",
   "execution_count": 11,
   "id": "dce71d12",
   "metadata": {},
   "outputs": [
    {
     "data": {
      "text/plain": [
       "0.17592592592592582"
      ]
     },
     "execution_count": 11,
     "metadata": {},
     "output_type": "execute_result"
    }
   ],
   "source": [
    "(GenderSalary.median()['Man']/GenderSalary.median()['Woman'])['United States of America'] - 1 #percentage of more income of men"
   ]
  },
  {
   "cell_type": "code",
   "execution_count": 12,
   "id": "1572ff72",
   "metadata": {},
   "outputs": [
    {
     "data": {
      "text/plain": [
       "0.15386668089875655"
      ]
     },
     "execution_count": 12,
     "metadata": {},
     "output_type": "execute_result"
    }
   ],
   "source": [
    "(GenderSalary.median()['Man']/GenderSalary.median()['Woman'])['Germany'] - 1"
   ]
  },
  {
   "cell_type": "code",
   "execution_count": 14,
   "id": "1cece9b1",
   "metadata": {
    "scrolled": false
   },
   "outputs": [
    {
     "data": {
      "text/plain": [
       "United States of America                                0.175926\n",
       "India                                                   0.271088\n",
       "Germany                                                 0.153867\n",
       "United Kingdom of Great Britain and Northern Ireland    0.276600\n",
       "Canada                                                  0.111109\n",
       "France                                                  0.197962\n",
       "Brazil                                                  0.171553\n",
       "Poland                                                  0.625185\n",
       "Netherlands                                             0.252742\n",
       "Italy                                                   0.152965\n",
       "Name: ConvertedCompYearly, dtype: float64"
      ]
     },
     "execution_count": 14,
     "metadata": {},
     "output_type": "execute_result"
    }
   ],
   "source": [
    "top_ten=data['Country'].value_counts().nlargest(10)\n",
    "((GenderSalary.median()['Man']/GenderSalary.median()['Woman'])-1)[top_ten.index] #top_ten = highest surveyed countries, for others the values become unusable\n",
    "# is this represantive? what happend in poland?\n",
    "# for germany the results are only 3% off, this site says 18% for 2020 https://www.destatis.de/DE/Themen/Arbeit/Arbeitsmarkt/Qualitaet-Arbeit/Dimension-1/gender-pay-gap.html"
   ]
  },
  {
   "cell_type": "code",
   "execution_count": 15,
   "id": "df8900b3",
   "metadata": {
    "scrolled": true
   },
   "outputs": [
    {
     "data": {
      "text/plain": [
       "<AxesSubplot:>"
      ]
     },
     "execution_count": 15,
     "metadata": {},
     "output_type": "execute_result"
    },
    {
     "data": {
      "image/png": "[encoded data removed]",
      "text/plain": [
       "<Figure size 432x288 with 1 Axes>"
      ]
     },
     "metadata": {
      "needs_background": "light"
     },
     "output_type": "display_data"
    }
   ],
   "source": [
    "((GenderSalary.median()['Man']/GenderSalary.median()['Woman'])-1)[top_ten.index].plot.bar()"
   ]
  },
  {
   "cell_type": "code",
   "execution_count": null,
   "id": "f79d5397",
   "metadata": {},
   "outputs": [],
   "source": [
    "#lets do the same for race? (todo?)"
   ]
  },
  {
   "cell_type": "code",
   "execution_count": 16,
   "id": "0275c233",
   "metadata": {
    "scrolled": true
   },
   "outputs": [],
   "source": [
    "EdLevelSalary = data.groupby(['EdLevel'])['ConvertedCompYearly'].median().sort_values()"
   ]
  },
  {
   "cell_type": "code",
   "execution_count": 17,
   "id": "f3d5c595",
   "metadata": {
    "scrolled": true
   },
   "outputs": [
    {
     "data": {
      "text/plain": [
       "<AxesSubplot:xlabel='EdLevel'>"
      ]
     },
     "execution_count": 17,
     "metadata": {},
     "output_type": "execute_result"
    },
    {
     "data": {
      "image/png": "[encoded data removed]",
      "text/plain": [
       "<Figure size 432x288 with 1 Axes>"
      ]
     },
     "metadata": {
      "needs_background": "light"
     },
     "output_type": "display_data"
    }
   ],
   "source": [
    "EdLevelSalary.plot.bar()"
   ]
  },
  {
   "cell_type": "code",
   "execution_count": 18,
   "id": "c4929229",
   "metadata": {},
   "outputs": [
    {
     "data": {
      "text/plain": [
       "ResponseId                      False\n",
       "MainBranch                      False\n",
       "Employment                       True\n",
       "Country                         False\n",
       "US_State                         True\n",
       "UK_Country                       True\n",
       "EdLevel                          True\n",
       "Age1stCode                       True\n",
       "LearnCode                        True\n",
       "YearsCode                        True\n",
       "YearsCodePro                     True\n",
       "DevType                          True\n",
       "OrgSize                          True\n",
       "Currency                         True\n",
       "CompTotal                        True\n",
       "CompFreq                         True\n",
       "LanguageHaveWorkedWith           True\n",
       "LanguageWantToWorkWith           True\n",
       "DatabaseHaveWorkedWith           True\n",
       "DatabaseWantToWorkWith           True\n",
       "PlatformHaveWorkedWith           True\n",
       "PlatformWantToWorkWith           True\n",
       "WebframeHaveWorkedWith           True\n",
       "WebframeWantToWorkWith           True\n",
       "MiscTechHaveWorkedWith           True\n",
       "MiscTechWantToWorkWith           True\n",
       "ToolsTechHaveWorkedWith          True\n",
       "ToolsTechWantToWorkWith          True\n",
       "NEWCollabToolsHaveWorkedWith     True\n",
       "NEWCollabToolsWantToWorkWith     True\n",
       "OpSys                            True\n",
       "NEWStuck                         True\n",
       "NEWSOSites                       True\n",
       "SOVisitFreq                      True\n",
       "SOAccount                        True\n",
       "SOPartFreq                       True\n",
       "SOComm                           True\n",
       "NEWOtherComms                    True\n",
       "Age                              True\n",
       "Gender                           True\n",
       "Trans                            True\n",
       "Sexuality                        True\n",
       "Ethnicity                        True\n",
       "Accessibility                    True\n",
       "MentalHealth                     True\n",
       "SurveyLength                     True\n",
       "SurveyEase                       True\n",
       "ConvertedCompYearly              True\n",
       "dtype: bool"
      ]
     },
     "execution_count": 18,
     "metadata": {},
     "output_type": "execute_result"
    }
   ],
   "source": [
    "#check for missed values\n",
    "#List of all the coloumns with missing values\n",
    "data.isna().any()"
   ]
  },
  {
   "cell_type": "code",
   "execution_count": 19,
   "id": "abfaaaa3",
   "metadata": {},
   "outputs": [
    {
     "name": "stdout",
     "output_type": "stream",
     "text": [
      "Number of columns with missing values: 45\n"
     ]
    }
   ],
   "source": [
    "print('Number of columns with missing values:',len(data.columns[data.isnull().any()].to_list()))"
   ]
  },
  {
   "cell_type": "code",
   "execution_count": 20,
   "id": "df07b899",
   "metadata": {},
   "outputs": [
    {
     "data": {
      "text/plain": [
       "ResponseId                       0.000000\n",
       "MainBranch                       0.000000\n",
       "Employment                       0.139024\n",
       "Country                          0.000000\n",
       "US_State                        82.118674\n",
       "UK_Country                      94.705114\n",
       "EdLevel                          0.375124\n",
       "Age1stCode                       0.234902\n",
       "LearnCode                        0.570477\n",
       "YearsCode                        2.154868\n",
       "YearsCodePro                    26.633828\n",
       "DevType                         20.320234\n",
       "OrgSize                         27.221084\n",
       "Currency                        26.796822\n",
       "CompTotal                       43.452103\n",
       "CompFreq                        37.499251\n",
       "LanguageHaveWorkedWith           1.296756\n",
       "LanguageWantToWorkWith           7.931543\n",
       "DatabaseHaveWorkedWith          16.650487\n",
       "DatabaseWantToWorkWith          30.129795\n",
       "PlatformHaveWorkedWith          37.517228\n",
       "PlatformWantToWorkWith          50.120447\n",
       "WebframeHaveWorkedWith          26.045374\n",
       "WebframeWantToWorkWith          37.565167\n",
       "MiscTechHaveWorkedWith          43.605508\n",
       "MiscTechWantToWorkWith          54.432579\n",
       "ToolsTechHaveWorkedWith         13.065833\n",
       "ToolsTechWantToWorkWith         21.523508\n",
       "NEWCollabToolsHaveWorkedWith     2.642649\n",
       "NEWCollabToolsWantToWorkWith    12.484570\n",
       "OpSys                            0.173780\n",
       "NEWStuck                         0.463812\n",
       "NEWSOSites                       0.321193\n",
       "SOVisitFreq                      1.229641\n",
       "SOAccount                        1.095411\n",
       "SOPartFreq                      19.039058\n",
       "SOComm                           1.342298\n",
       "NEWOtherComms                    0.732271\n",
       "Age                              1.236832\n",
       "Gender                           1.381848\n",
       "Trans                            3.309004\n",
       "Sexuality                       12.072292\n",
       "Ethnicity                        4.763959\n",
       "Accessibility                    6.994331\n",
       "MentalHealth                     7.812893\n",
       "SurveyLength                     2.070974\n",
       "SurveyEase                       1.786934\n",
       "ConvertedCompYearly             43.858388\n",
       "dtype: float64"
      ]
     },
     "execution_count": 20,
     "metadata": {},
     "output_type": "execute_result"
    }
   ],
   "source": [
    "#Percentage of missing values\n",
    "data.isnull().sum()/data.shape[0] *100"
   ]
  },
  {
   "cell_type": "code",
   "execution_count": 21,
   "id": "e9f169b2",
   "metadata": {},
   "outputs": [
    {
     "name": "stdout",
     "output_type": "stream",
     "text": [
      "['US_State', 'UK_Country']\n",
      "Number of columns with more the 75% missing values: 2\n"
     ]
    }
   ],
   "source": [
    "#columns with more than 75% missing values\n",
    "print(data.columns[data.isnull().mean()>0.75].to_list())\n",
    "print('Number of columns with more the 75% missing values:',len(data.columns[data.isnull().mean()>0.75].to_list()))"
   ]
  },
  {
   "cell_type": "code",
   "execution_count": 22,
   "id": "60981283",
   "metadata": {},
   "outputs": [
    {
     "data": {
      "image/png": "[encoded data removed]",
      "text/plain": [
       "<Figure size 864x288 with 1 Axes>"
      ]
     },
     "metadata": {
      "needs_background": "light"
     },
     "output_type": "display_data"
    }
   ],
   "source": [
    "#Highest Surveyed Countries\n",
    "\n",
    "top_ten=data['Country'].value_counts().nlargest(10)\n",
    "\n",
    "\n",
    "plt.subplots(figsize=(12,4))\n",
    "top_ten.plot.bar()\n",
    "plt.xlabel('Country')\n",
    "plt.ylabel('Count')\n",
    "plt.show()"
   ]
  },
  {
   "cell_type": "code",
   "execution_count": 23,
   "id": "ae958e0c",
   "metadata": {},
   "outputs": [
    {
     "name": "stdout",
     "output_type": "stream",
     "text": [
      "0        C++;HTML/CSS;JavaScript;Objective-C;PHP;Swift\n",
      "1                                    JavaScript;Python\n",
      "2                             Assembly;C;Python;R;Rust\n",
      "3                                JavaScript;TypeScript\n",
      "4                       Bash/Shell;HTML/CSS;Python;SQL\n",
      "                             ...                      \n",
      "83433    Java;JavaScript;Kotlin;Objective-C;TypeScript\n",
      "83434                               Clojure;Kotlin;SQL\n",
      "83436                               Groovy;Java;Python\n",
      "83437             Bash/Shell;JavaScript;Node.js;Python\n",
      "83438           Delphi;Elixir;HTML/CSS;Java;JavaScript\n",
      "Name: LanguageHaveWorkedWith, Length: 82357, dtype: object\n",
      "['Clojure', 'Dart', 'Java', 'Perl', 'APL', 'Node.js', 'LISP', 'C++', 'Go', 'Kotlin', 'Scala', 'Crystal', 'HTML/CSS', 'Groovy', 'COBOL', 'Bash/Shell', 'Erlang', 'Delphi', 'C', 'F#', 'JavaScript', 'Swift', 'Elixir', 'PHP', 'TypeScript', 'Rust', 'SQL', 'Matlab', 'Julia', 'Python', 'Assembly', 'C#', 'VBA', 'Haskell', 'Objective-C', 'R', 'Ruby', 'PowerShell']\n"
     ]
    }
   ],
   "source": [
    "# EDA on used programming languages in this survey\n",
    "\n",
    "temp=data['LanguageHaveWorkedWith'].dropna() #clean data\n",
    "print(temp)\n",
    "language=[]\n",
    "for i in temp:\n",
    "    if isinstance(i, int):\n",
    "        print('int value.. no need to split') #reason: I just could't get rid of that value! it's the last one so 'break' helped\n",
    "        break\n",
    "    x = i.split(\";\")\n",
    "    language.append(x)\n",
    "    \n",
    "import itertools\n",
    "languages=list(itertools.chain.from_iterable(language))\n",
    "languages=list(set(languages)) #remove duplicated values\n",
    "print(languages)"
   ]
  },
  {
   "cell_type": "code",
   "execution_count": 24,
   "id": "07e07cba",
   "metadata": {},
   "outputs": [
    {
     "name": "stdout",
     "output_type": "stream",
     "text": [
      "{'Clojure': 1552, 'Dart': 4965, 'Java': 29162, 'Perl': 2028, 'APL': 536, 'Node.js': 27975, 'LISP': 1096, 'C++': 20057, 'Go': 7879, 'Kotlin': 6866, 'Scala': 2148, 'Crystal': 466, 'HTML/CSS': 46259, 'Groovy': 2479, 'COBOL': 437, 'Bash/Shell': 22385, 'Erlang': 651, 'Delphi': 1731, 'C': 17329, 'F#': 804, 'JavaScript': 53587, 'Swift': 4204, 'Elixir': 1438, 'PHP': 18130, 'TypeScript': 24909, 'Rust': 5799, 'SQL': 38835, 'Matlab': 3846, 'Julia': 1068, 'Python': 39792, 'Assembly': 4632, 'C#': 22984, 'VBA': 3847, 'Haskell': 1749, 'Objective-C': 2310, 'R': 4185, 'Ruby': 5569, 'PowerShell': 8871}\n"
     ]
    }
   ],
   "source": [
    "#count users of the used languages\n",
    "\n",
    "used_languages={} #cant we do that with pandas instead of dictionaries?\n",
    "for i in languages:\n",
    "    used_languages[i]=(data['LanguageHaveWorkedWith'].apply(lambda x: i in str(x).split(';')).value_counts()[1])\n",
    "print(used_languages)\n",
    "df_lan = pd.DataFrame({'Language' : used_languages.keys() , 'Users' : used_languages.values() })\n",
    "#df_lan = df_lan.sort_values('Users').iloc[::-1] # sorting\n",
    "#pd.DataFrame.from_dict(used_languages,orient='index',columns=['Users'])"
   ]
  },
  {
   "cell_type": "code",
   "execution_count": 25,
   "id": "9f671c8d",
   "metadata": {},
   "outputs": [
    {
     "name": "stdout",
     "output_type": "stream",
     "text": [
      "       Language  Users\n",
      "0       Clojure   1552\n",
      "1          Dart   4965\n",
      "2          Java  29162\n",
      "3          Perl   2028\n",
      "4           APL    536\n",
      "5       Node.js  27975\n",
      "6          LISP   1096\n",
      "7           C++  20057\n",
      "8            Go   7879\n",
      "9        Kotlin   6866\n",
      "10        Scala   2148\n",
      "11      Crystal    466\n",
      "12     HTML/CSS  46259\n",
      "13       Groovy   2479\n",
      "14        COBOL    437\n",
      "15   Bash/Shell  22385\n",
      "16       Erlang    651\n",
      "17       Delphi   1731\n",
      "18            C  17329\n",
      "19           F#    804\n",
      "20   JavaScript  53587\n",
      "21        Swift   4204\n",
      "22       Elixir   1438\n",
      "23          PHP  18130\n",
      "24   TypeScript  24909\n",
      "25         Rust   5799\n",
      "26          SQL  38835\n",
      "27       Matlab   3846\n",
      "28        Julia   1068\n",
      "29       Python  39792\n",
      "30     Assembly   4632\n",
      "31           C#  22984\n",
      "32          VBA   3847\n",
      "33      Haskell   1749\n",
      "34  Objective-C   2310\n",
      "35            R   4185\n",
      "36         Ruby   5569\n",
      "37   PowerShell   8871\n"
     ]
    }
   ],
   "source": [
    "print(df_lan)"
   ]
  },
  {
   "cell_type": "code",
   "execution_count": 26,
   "id": "01139ff1",
   "metadata": {},
   "outputs": [
    {
     "data": {
      "image/png": "[encoded data removed]",
      "text/plain": [
       "<Figure size 576x576 with 1 Axes>"
      ]
     },
     "metadata": {},
     "output_type": "display_data"
    }
   ],
   "source": [
    "# Proffession of surveyed users\n",
    "proffession=data['MainBranch'].value_counts()\n",
    "proffession.plot(kind='pie',figsize=(8,8),title='Main Branch')\n",
    "plt.show()"
   ]
  },
  {
   "cell_type": "code",
   "execution_count": 27,
   "id": "b2faf0d3",
   "metadata": {},
   "outputs": [
    {
     "data": {
      "text/plain": [
       "<AxesSubplot:>"
      ]
     },
     "execution_count": 27,
     "metadata": {},
     "output_type": "execute_result"
    },
    {
     "data": {
      "image/png": "[encoded data removed]",
      "text/plain": [
       "<Figure size 432x288 with 1 Axes>"
      ]
     },
     "metadata": {
      "needs_background": "light"
     },
     "output_type": "display_data"
    }
   ],
   "source": [
    "#let's have a look on coding experience ..\n",
    "# but first, we should clean our data from non numeric values\n",
    "\n",
    "data.loc[data['YearsCode'] =='Less than 1 year'] = 0\n",
    "data.loc[data['YearsCode'] =='More than 50 years'] = 50\n",
    "experience = data['YearsCode'].value_counts()\n",
    "experience.plot()\n",
    "#experience.sort_values()"
   ]
  },
  {
   "cell_type": "code",
   "execution_count": null,
   "id": "ee7f03c8",
   "metadata": {},
   "outputs": [],
   "source": [
    "# separating male and female: \n",
    "\n",
    "male = data[data.Gender == 'Man']  \n",
    "male.shape"
   ]
  },
  {
   "cell_type": "code",
   "execution_count": null,
   "id": "21eff274",
   "metadata": {},
   "outputs": [],
   "source": [
    "female = data[data.Gender == 'Woman']  #sex = 1 == male?\n",
    "female.shape"
   ]
  },
  {
   "cell_type": "code",
   "execution_count": null,
   "id": "8bc5bd6f",
   "metadata": {},
   "outputs": [],
   "source": [
    "# now we can see median coding experience for both genders\n",
    "\n",
    "male.YearsCode.median() "
   ]
  },
  {
   "cell_type": "code",
   "execution_count": null,
   "id": "1073cd1b",
   "metadata": {},
   "outputs": [],
   "source": [
    "female.YearsCode.median() "
   ]
  },
  {
   "cell_type": "code",
   "execution_count": null,
   "id": "73cc47de",
   "metadata": {},
   "outputs": [],
   "source": []
  }
 ],
 "metadata": {
  "kernelspec": {
   "display_name": "Python 3",
   "language": "python",
   "name": "python3"
  },
  "language_info": {
   "codemirror_mode": {
    "name": "ipython",
    "version": 3
   },
   "file_extension": ".py",
   "mimetype": "text/x-python",
   "name": "python",
   "nbconvert_exporter": "python",
   "pygments_lexer": "ipython3",
   "version": "3.8.8"
  }
 },
 "nbformat": 4,
 "nbformat_minor": 5
}
